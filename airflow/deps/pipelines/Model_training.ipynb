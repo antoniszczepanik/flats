{
 "cells": [
  {
   "cell_type": "code",
   "execution_count": 1,
   "metadata": {},
   "outputs": [
    {
     "name": "stderr",
     "output_type": "stream",
     "text": [
      "credentials.py 12:19:51 INFO: Found credentials in shared credentials file: ~/.aws/credentials\n"
     ]
    }
   ],
   "source": [
    "import matplotlib.pyplot as plt\n",
    "import numpy as np\n",
    "import pandas as pd\n",
    "from sklearn.ensemble import RandomForestRegressor\n",
    "from sklearn.model_selection import train_test_split\n",
    "from sklearn.model_selection import RandomizedSearchCV\n",
    "\n",
    "import pipelines\n",
    "from s3_client import s3_client\n",
    "import columns as c\n",
    "import common\n",
    "\n",
    "pd.set_option('float_format', '{:f}'.format)\n",
    "%load_ext autoreload\n",
    "%autoreload 2\n",
    "\n",
    "s3_client = s3_client() "
   ]
  },
  {
   "cell_type": "code",
   "execution_count": 2,
   "metadata": {},
   "outputs": [
    {
     "name": "stderr",
     "output_type": "stream",
     "text": [
      "s3_client.py 12:19:53 INFO: Downloading sale/final/sale_final_2019_12_31T00_36_41.parquet from flats-data bucket ...\n",
      "s3_client.py 12:20:00 INFO: Successfully downloaded sale/final/sale_final_2019_12_31T00_36_41.parquet from flats-data bucket.\n"
     ]
    }
   ],
   "source": [
    "_df = s3_client.read_newest_df_from_s3(common.FINAL_DATA_PATH, dtype='sale')"
   ]
  },
  {
   "cell_type": "code",
   "execution_count": 3,
   "metadata": {},
   "outputs": [
    {
     "name": "stdout",
     "output_type": "stream",
     "text": [
      "(240238, 41)\n",
      "(8834, 41)\n"
     ]
    }
   ],
   "source": [
    "df = _df.drop(c.HEATING, axis=1)\n",
    "print(df.shape)\n",
    "df = df[:10000]\n",
    "df = df.dropna()\n",
    "print(df.shape)\n",
    "df[c.DATE_ADDED] = pd.to_datetime(df[c.DATE_ADDED]).dt.strftime(\"%Y%m%d\").astype(int)\n",
    "df[c.DATE_REFRESHED] = pd.to_datetime(df[c.DATE_REFRESHED]).dt.strftime(\"%Y%m%d\").astype(int)"
   ]
  },
  {
   "cell_type": "code",
   "execution_count": null,
   "metadata": {},
   "outputs": [],
   "source": []
  },
  {
   "cell_type": "code",
   "execution_count": 4,
   "metadata": {},
   "outputs": [],
   "source": [
    "X = df.drop([c.PRICE, c.PRICE_M2, c.OFFER_ID], axis=1)\n",
    "rent_cols = [\n",
    "    c.CLUSTER_COORDS_FACTOR,\n",
    "    c.BUILDING_HEIGHT,\n",
    "    c.SIZE,\n",
    "    c.FLOOR,\n",
    "    c.BUILDING_YEAR,\n",
    "    c.VIEW_COUNT,\n",
    "    c.DESC_LEN,\n",
    "    c.FLOOR_N,\n",
    "    c.LAT,\n",
    "    c.LON,\n",
    "]\n",
    "sale_cols = [\n",
    "    c.CLUSTER_COORDS_FACTOR,\n",
    "    c.SIZE,\n",
    "    c.CLUSTER_ID,\n",
    "    c.CLUSTER_MEAN_PRICE_M2,\n",
    "    c.LAT,\n",
    "    c.BUILDING_YEAR,\n",
    "    c.LON,\n",
    "    c.CLUSTER_CENTER_DIST_KM,\n",
    "    c.DESC_LEN,\n",
    "    c.VIEW_COUNT,\n",
    "]\n",
    "X = X[sale_cols]\n",
    "y = df[c.PRICE_M2]\n",
    "X_train, X_test, y_train, y_test = train_test_split(X, y, test_size=0.2, random_state=42)"
   ]
  },
  {
   "cell_type": "code",
   "execution_count": 5,
   "metadata": {},
   "outputs": [
    {
     "name": "stdout",
     "output_type": "stream",
     "text": [
      "Fitting 2 folds for each of 2 candidates, totalling 4 fits\n"
     ]
    },
    {
     "name": "stderr",
     "output_type": "stream",
     "text": [
      "[Parallel(n_jobs=-1)]: Using backend LokyBackend with 8 concurrent workers.\n",
      "[Parallel(n_jobs=-1)]: Done   4 out of   4 | elapsed:  1.3min finished\n"
     ]
    },
    {
     "name": "stdout",
     "output_type": "stream",
     "text": [
      "Model Performance\n",
      "Average Error: 805.8518\n",
      "MAPE = 11.61%.\n"
     ]
    },
    {
     "data": {
      "text/html": [
       "<div>\n",
       "<style scoped>\n",
       "    .dataframe tbody tr th:only-of-type {\n",
       "        vertical-align: middle;\n",
       "    }\n",
       "\n",
       "    .dataframe tbody tr th {\n",
       "        vertical-align: top;\n",
       "    }\n",
       "\n",
       "    .dataframe thead th {\n",
       "        text-align: right;\n",
       "    }\n",
       "</style>\n",
       "<table border=\"1\" class=\"dataframe\">\n",
       "  <thead>\n",
       "    <tr style=\"text-align: right;\">\n",
       "      <th></th>\n",
       "      <th>importance</th>\n",
       "    </tr>\n",
       "  </thead>\n",
       "  <tbody>\n",
       "    <tr>\n",
       "      <th>cluster_coords_factor__feature</th>\n",
       "      <td>0.503717</td>\n",
       "    </tr>\n",
       "    <tr>\n",
       "      <th>cluster_id__feature</th>\n",
       "      <td>0.114612</td>\n",
       "    </tr>\n",
       "    <tr>\n",
       "      <th>cluster_mean_price_m2__feature</th>\n",
       "      <td>0.098042</td>\n",
       "    </tr>\n",
       "    <tr>\n",
       "      <th>size__offer</th>\n",
       "      <td>0.085443</td>\n",
       "    </tr>\n",
       "    <tr>\n",
       "      <th>lat__offer</th>\n",
       "      <td>0.039779</td>\n",
       "    </tr>\n",
       "    <tr>\n",
       "      <th>building_year__offer</th>\n",
       "      <td>0.036698</td>\n",
       "    </tr>\n",
       "    <tr>\n",
       "      <th>view_count__offer</th>\n",
       "      <td>0.034601</td>\n",
       "    </tr>\n",
       "    <tr>\n",
       "      <th>lon__offer</th>\n",
       "      <td>0.034504</td>\n",
       "    </tr>\n",
       "    <tr>\n",
       "      <th>cluster_center_dist_km__feature</th>\n",
       "      <td>0.029299</td>\n",
       "    </tr>\n",
       "    <tr>\n",
       "      <th>desc_len__offer</th>\n",
       "      <td>0.023305</td>\n",
       "    </tr>\n",
       "  </tbody>\n",
       "</table>\n",
       "</div>"
      ],
      "text/plain": [
       "                                 importance\n",
       "cluster_coords_factor__feature     0.503717\n",
       "cluster_id__feature                0.114612\n",
       "cluster_mean_price_m2__feature     0.098042\n",
       "size__offer                        0.085443\n",
       "lat__offer                         0.039779\n",
       "building_year__offer               0.036698\n",
       "view_count__offer                  0.034601\n",
       "lon__offer                         0.034504\n",
       "cluster_center_dist_km__feature    0.029299\n",
       "desc_len__offer                    0.023305"
      ]
     },
     "execution_count": 5,
     "metadata": {},
     "output_type": "execute_result"
    }
   ],
   "source": [
    "n_estimators = [int(x) for x in np.linspace(start = 200, stop = 2000, num = 10)]\n",
    "max_depth = [int(x) for x in np.linspace(4, 110, num = 11)]\n",
    "max_depth.append(None)\n",
    "min_samples_split = [2, 5, 10]\n",
    "min_samples_leaf = [1, 2, 4]\n",
    "\n",
    "random_grid = {'n_estimators': n_estimators,\n",
    "               'max_depth': max_depth,\n",
    "               'min_samples_split': min_samples_split,\n",
    "               'min_samples_leaf': min_samples_leaf}\n",
    "\n",
    "rf = RandomForestRegressor()\n",
    "\n",
    "# Random search of parameters, using 3 fold cross validation, \n",
    "# search across 100 different combinations, and use all available cores\n",
    "rf_random = RandomizedSearchCV(\n",
    "    estimator = rf,\n",
    "    param_distributions = random_grid,\n",
    "    n_iter = 2,\n",
    "    cv = 2,\n",
    "    verbose=3,\n",
    "    random_state=42,\n",
    "    n_jobs = -1,\n",
    ")\n",
    "\n",
    "# Fit the random search model\n",
    "rf_random.fit(X_train, y_train)\n",
    "\n",
    "def evaluate(model, X_test, y_test):\n",
    "    predictions = model.predict(X_test)\n",
    "    errors = abs(predictions - y_test)\n",
    "    mape = 100 * np.mean(errors / y_test)\n",
    "    print('Model Performance')\n",
    "    print('Average Error: {:0.4f}'.format(np.mean(errors)))\n",
    "    print('MAPE = {:0.2f}%.'.format(mape))\n",
    "    return mape\n",
    "\n",
    "# Fit the grid search to the data\n",
    "best_rf = rf_random.best_estimator_\n",
    "mape = evaluate(best_rf, X_test, y_test)\n",
    "\n",
    "feature_importances = (pd.DataFrame(best_rf.feature_importances_,\n",
    "                                    index = X_train.columns,\n",
    "                                    columns=['importance'])\n",
    "                       .sort_values('importance', ascending=False))\n",
    "feature_importances"
   ]
  },
  {
   "cell_type": "code",
   "execution_count": 6,
   "metadata": {},
   "outputs": [
    {
     "name": "stderr",
     "output_type": "stream",
     "text": [
      "s3_client.py 12:21:45 INFO: Sending sale/models/sale_rf_2019_12_31T12_21_45.joblib to flats-models bucket...\n",
      "s3_client.py 12:22:03 INFO: Successfully uploaded sale/models/sale_rf_2019_12_31T12_21_45.joblib to flats-models bucket.\n"
     ]
    },
    {
     "data": {
      "text/plain": [
       "True"
      ]
     },
     "execution_count": 6,
     "metadata": {},
     "output_type": "execute_result"
    }
   ],
   "source": [
    "s3_client.upload_model_to_s3_with_timestamp(best_rf,\n",
    "                                            common.MODELS_PATH,\n",
    "                                            dtype='sale',\n",
    "                                            keyword='rf',\n",
    "                                            metadata={'MAPE': '{:0.3f}%.'.format(mape)},\n",
    "                                           )"
   ]
  },
  {
   "cell_type": "code",
   "execution_count": 10,
   "metadata": {},
   "outputs": [
    {
     "name": "stderr",
     "output_type": "stream",
     "text": [
      "s3_client.py 12:25:03 INFO: Downloading sale/models/sale_rf_2019_12_31T12_21_45.joblib from flats-models bucket ...\n",
      "s3_client.py 12:25:20 INFO: Successfully downloaded sale/models/sale_rf_2019_12_31T12_21_45.joblib from flats-models bucket.\n"
     ]
    }
   ],
   "source": [
    "model = s3_client.read_model_from_s3('flats-models/sale/models/sale_rf_2019_12_31T12_21_45.joblib')"
   ]
  },
  {
   "cell_type": "code",
   "execution_count": 11,
   "metadata": {},
   "outputs": [],
   "source": [
    "pred = model.predict(df.loc[4:10, sale_cols])"
   ]
  },
  {
   "cell_type": "code",
   "execution_count": 12,
   "metadata": {},
   "outputs": [
    {
     "data": {
      "text/plain": [
       "array([3243.22693343, 4206.17902351, 8147.23622611, 8284.82632176,\n",
       "       7473.95792847, 5116.14065348])"
      ]
     },
     "execution_count": 12,
     "metadata": {},
     "output_type": "execute_result"
    }
   ],
   "source": [
    "pred\n",
    "model = s3_client.read_model_from_s3('flats-models/sale/models/sale_rf_2019_12_31T12_21_45.joblib')"
   ]
  },
  {
   "cell_type": "code",
   "execution_count": 13,
   "metadata": {},
   "outputs": [
    {
     "name": "stderr",
     "output_type": "stream",
     "text": [
      "s3_client.py 12:32:23 INFO: Downloading sale/models/sale_rf_2019_12_31T12_21_45.joblib from flats-models bucket ...\n",
      "s3_client.py 12:33:50 INFO: Successfully downloaded sale/models/sale_rf_2019_12_31T12_21_45.joblib from flats-models bucket.\n"
     ]
    }
   ],
   "source": [
    "model = s3_client.read_newest_model_from_s3(common.MODELS_PATH, 'sale')"
   ]
  },
  {
   "cell_type": "code",
   "execution_count": null,
   "metadata": {},
   "outputs": [],
   "source": []
  }
 ],
 "metadata": {
  "kernelspec": {
   "display_name": "Python 3",
   "language": "python",
   "name": "python3"
  },
  "language_info": {
   "codemirror_mode": {
    "name": "ipython",
    "version": 3
   },
   "file_extension": ".py",
   "mimetype": "text/x-python",
   "name": "python",
   "nbconvert_exporter": "python",
   "pygments_lexer": "ipython3",
   "version": "3.7.6"
  }
 },
 "nbformat": 4,
 "nbformat_minor": 4
}
