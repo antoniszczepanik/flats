{
 "cells": [
  {
   "cell_type": "code",
   "execution_count": 4,
   "metadata": {},
   "outputs": [
    {
     "data": {
      "text/plain": [
       "NaN                3157\n",
       "blok               1373\n",
       "NISKI BLOK          814\n",
       "Blok Mieszkalny     682\n",
       "kamienica           615\n",
       "apartamentowiec     467\n",
       "Apartamentowiec     401\n",
       "APARTAMENTOWIEC     377\n",
       "KAMIENICA           327\n",
       "WIEŻOWIEC           316\n",
       "Name: building_type, dtype: int64"
      ]
     },
     "execution_count": 4,
     "metadata": {},
     "output_type": "execute_result"
    }
   ],
   "source": [
    "import pandas as pd\n",
    "from data_cleaning_map import MorizonCleaner\n",
    "pd.set_option('display.max_columns', 500)\n",
    "\n",
    "df = pd.read_parquet('pendolino.parquet')\n",
    "df['building_type'].value_counts(dropna=False)[:10]"
   ]
  },
  {
   "cell_type": "code",
   "execution_count": 5,
   "metadata": {},
   "outputs": [],
   "source": [
    "clean_df = MorizonCleaner(df).clean_df()"
   ]
  },
  {
   "cell_type": "code",
   "execution_count": 7,
   "metadata": {},
   "outputs": [
    {
     "data": {
      "text/plain": [
       "no_info                                                                                                                                                                      2435\n",
       "Winda                                                                                                                                                                        1073\n",
       "Piwnica                                                                                                                                                                       823\n",
       "Brak windy, piwnica                                                                                                                                                           581\n",
       "Winda, piwnica                                                                                                                                                                447\n",
       "Brak windy                                                                                                                                                                    401\n",
       "Winda, miejsce parkingowe                                                                                                                                                     316\n",
       "Miejsce parkingowe                                                                                                                                                            263\n",
       "Winda, domofon, piwnica (nie)                                                                                                                                                 222\n",
       "Dostęp do drogi (asfaltowa), piwnica                                                                                                                                          214\n",
       "Brak windy, domofon, piwnica                                                                                                                                                  194\n",
       "Obiekt zamknięty, winda, domofon, piwnica (nie)                                                                                                                               186\n",
       "Domofon, piwnica                                                                                                                                                              181\n",
       "Winda, domofon                                                                                                                                                                153\n",
       "Domofon (nie), piwnica (nie)                                                                                                                                                  149\n",
       "Winda, domofon, piwnica                                                                                                                                                       132\n",
       "Miejsce parkingowe, piwnica                                                                                                                                                   117\n",
       "Winda, domofon (nie), piwnica (nie)                                                                                                                                           106\n",
       "Obiekt zamknięty, winda, domofon                                                                                                                                              100\n",
       "Dostęp do drogi (asfaltowa)                                                                                                                                                    98\n",
       "Winda, dostęp do drogi (asfaltowa), piwnica                                                                                                                                    84\n",
       "Winda, dostęp do drogi (asfaltowa)                                                                                                                                             82\n",
       "Obiekt zamknięty, winda, domofon, piwnica                                                                                                                                      72\n",
       "Domofon                                                                                                                                                                        70\n",
       "Domofon, piwnica (nie)                                                                                                                                                         67\n",
       "Obiekt zamknięty, miejsce parkingowe                                                                                                                                           64\n",
       "Winda, miejsce parkingowe, piwnica                                                                                                                                             62\n",
       "Dostęp do drogi (asfaltowa), miejsce parkingowe, piwnica                                                                                                                       59\n",
       "Obiekt zamknięty, domofon, piwnica (nie)                                                                                                                                       55\n",
       "Winda, dostęp do drogi (asfaltowa), miejsce parkingowe                                                                                                                         49\n",
       "                                                                                                                                                                             ... \n",
       "Brak windy, domofon (nie), podjazd (nie), dostęp do drogi (cicha ulica,lokalna droga,asfaltowa), ogrodzenie (brak), miejsce parkingowe (2), piwnica (nie), witryna (nie)        1\n",
       "Domofon, dostęp do drogi (cicha ulica), miejsce parkingowe (4), piwnica (nie)                                                                                                   1\n",
       "Dostęp do drogi (cicha ulica), ogrodzenie (inne), miejsce parkingowe (10), piwnica (nie)                                                                                        1\n",
       "Domofon, dostęp do drogi (ulica osiedlowa,lokalna droga,asfaltowa), ogrodzenie (inne), miejsce parkingowe (10), piwnica (nie)                                                   1\n",
       "Domofon, dostęp do drogi (cicha ulica,asfaltowa), ogrodzenie (brak), miejsce parkingowe (10), piwnica (nie)                                                                     1\n",
       "Brak windy, miejsce parkingowe (parking naziemny), piwnica                                                                                                                      1\n",
       "Winda, miejsce parkingowe (3)                                                                                                                                                   1\n",
       "Dostęp do drogi (cicha ulica), miejsce parkingowe, piwnica (nie)                                                                                                                1\n",
       "Miejsce parkingowe (15, w tym parking naziemny), piwnica                                                                                                                        1\n",
       "Dostęp do drogi (asfaltowa), ogrodzenie (brak), miejsce parkingowe (30), piwnica (nie)                                                                                          1\n",
       "Brak windy, podjazd (nie), dostęp do drogi (asfaltowa), ogrodzenie (brak), piwnica (nie), witryna (nie)                                                                         1\n",
       "Miejsce parkingowe (garaż), piwnica                                                                                                                                             1\n",
       "Dostęp do drogi (utwardzona), miejsce parkingowe (parking naziemny), piwnica                                                                                                    1\n",
       "Brak windy, podjazd (nie), dostęp do drogi (cicha ulica), ogrodzenie (inne), piwnica (nie)                                                                                      1\n",
       "Winda, domofon (nie), miejsce parkingowe, piwnica                                                                                                                               1\n",
       "Domofon, dostęp do drogi (ruchliwa ulica), piwnica                                                                                                                              1\n",
       "Brak windy, domofon (nie), podjazd (nie), dostęp do drogi (cicha ulica), ogrodzenie (siatka), miejsce parkingowe (10), piwnica, witryna (nie)                                   1\n",
       "Dostęp do drogi (asfaltowa), ogrodzenie (brak), miejsce parkingowe, piwnica (nie)                                                                                               1\n",
       "Brak windy, dostęp do drogi (cicha ulica), ogrodzenie (siatka), miejsce parkingowe, piwnica                                                                                     1\n",
       "Brak windy, domofon, podjazd (nie), dostęp do drogi (ulica osiedlowa), ogrodzenie (brak), miejsce parkingowe (2), piwnica (nie), witryna (nie)                                  1\n",
       "Domofon, dostęp do drogi (cicha ulica,asfaltowa), ogrodzenie (brak), miejsce parkingowe (10), piwnica                                                                           1\n",
       "Winda, miejsce parkingowe (3), piwnica (nie)                                                                                                                                    1\n",
       "Brak windy, miejsce parkingowe (2), piwnica                                                                                                                                     1\n",
       "Domofon, dostęp do drogi (lokalna droga), piwnica (nie)                                                                                                                         1\n",
       "Domofon, podjazd (nie), dostęp do drogi (asfaltowa), ogrodzenie (inne), miejsce parkingowe (2), piwnica, witryna (nie)                                                          1\n",
       "Brak windy, domofon (nie), podjazd (nie), dostęp do drogi (cicha ulica), ogrodzenie (siatka), piwnica (nie), witryna (nie)                                                      1\n",
       "Brak windy, domofon, podjazd (nie), dostęp do drogi (lokalna droga), ogrodzenie (brak), piwnica, witryna (nie)                                                                  1\n",
       "Obiekt zamknięty, winda (2), miejsce parkingowe, piwnica                                                                                                                        1\n",
       "Dostęp do drogi (lokalna droga), piwnica                                                                                                                                        1\n",
       "Dostęp do drogi (asfaltowa), ogrodzenie (inne), piwnica                                                                                                                         1\n",
       "Name: conviniences, Length: 344, dtype: int64"
      ]
     },
     "execution_count": 7,
     "metadata": {},
     "output_type": "execute_result"
    }
   ],
   "source": [
    "clean_df['conviniences'].value_counts()"
   ]
  },
  {
   "cell_type": "code",
   "execution_count": null,
   "metadata": {},
   "outputs": [],
   "source": []
  }
 ],
 "metadata": {
  "kernelspec": {
   "display_name": "Python 3",
   "language": "python",
   "name": "python3"
  },
  "language_info": {
   "codemirror_mode": {
    "name": "ipython",
    "version": 3
   },
   "file_extension": ".py",
   "mimetype": "text/x-python",
   "name": "python",
   "nbconvert_exporter": "python",
   "pygments_lexer": "ipython3",
   "version": "3.7.3"
  }
 },
 "nbformat": 4,
 "nbformat_minor": 2
}
