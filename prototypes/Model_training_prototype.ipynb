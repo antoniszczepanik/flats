{
 "cells": [
  {
   "cell_type": "code",
   "execution_count": 1,
   "metadata": {},
   "outputs": [
    {
     "name": "stderr",
     "output_type": "stream",
     "text": [
      "credentials.py 16:28:23 INFO: Found credentials in shared credentials file: ~/.aws/credentials\n"
     ]
    }
   ],
   "source": [
    "import matplotlib.pyplot as plt\n",
    "import numpy as np\n",
    "import pandas as pd\n",
    "from sklearn.ensemble import RandomForestRegressor\n",
    "from sklearn.model_selection import train_test_split\n",
    "from sklearn.model_selection import RandomizedSearchCV\n",
    "\n",
    "import pipelines\n",
    "from s3_client import s3_client\n",
    "import columns as c\n",
    "import common\n",
    "\n",
    "s3_client = s3_client() "
   ]
  },
  {
   "cell_type": "code",
   "execution_count": 2,
   "metadata": {},
   "outputs": [
    {
     "name": "stderr",
     "output_type": "stream",
     "text": [
      "s3_client.py 16:28:25 INFO: Downloading rent/final/rent_final_2019_12_25T00_23_27.parquet from flats-data bucket ...\n",
      "s3_client.py 16:28:35 INFO: Successfully downloaded rent/final/rent_final_2019_12_25T00_23_27.parquet from flats-data bucket.\n"
     ]
    }
   ],
   "source": [
    "_df = s3_client.read_newest_df_from_s3(common.FINAL_DATA_PATH.format(data_type='rent'))"
   ]
  },
  {
   "cell_type": "code",
   "execution_count": 3,
   "metadata": {},
   "outputs": [
    {
     "name": "stdout",
     "output_type": "stream",
     "text": [
      "(85269, 41)\n",
      "(81612, 41)\n"
     ]
    }
   ],
   "source": [
    "df = _df.drop(c.HEATING, axis=1)\n",
    "print(df.shape)\n",
    "df = df.dropna()\n",
    "print(df.shape)\n",
    "df[c.DATE_ADDED] = pd.to_datetime(df[c.DATE_ADDED]).dt.strftime(\"%Y%m%d\").astype(int)\n",
    "df[c.DATE_REFRESHED] = pd.to_datetime(df[c.DATE_REFRESHED]).dt.strftime(\"%Y%m%d\").astype(int)"
   ]
  },
  {
   "cell_type": "code",
   "execution_count": 4,
   "metadata": {},
   "outputs": [],
   "source": [
    "X = df.drop([c.PRICE, c.PRICE_M2, c.OFFER_ID], axis=1)\n",
    "y = df[c.PRICE_M2]\n",
    "X_train, X_test, y_train, y_test = train_test_split(X, y, test_size=0.33, random_state=42)"
   ]
  },
  {
   "cell_type": "code",
   "execution_count": null,
   "metadata": {},
   "outputs": [
    {
     "name": "stdout",
     "output_type": "stream",
     "text": [
      "Fitting 2 folds for each of 2 candidates, totalling 4 fits\n"
     ]
    },
    {
     "name": "stderr",
     "output_type": "stream",
     "text": [
      "[Parallel(n_jobs=-1)]: Using backend LokyBackend with 8 concurrent workers.\n",
      "[Parallel(n_jobs=-1)]: Done   4 out of   4 | elapsed:  1.2min finished\n"
     ]
    }
   ],
   "source": [
    "n_estimators = [int(x) for x in np.linspace(start = 200, stop = 2000, num = 10)]\n",
    "max_features = ['auto', 'sqrt']\n",
    "max_depth = [int(x) for x in np.linspace(10, 110, num = 11)]\n",
    "max_depth.append(None)\n",
    "min_samples_split = [2, 5, 10]\n",
    "min_samples_leaf = [1, 2, 4]\n",
    "bootstrap = [True, False]\n",
    "random_grid = {'n_estimators': n_estimators,\n",
    "               'max_features': max_features,\n",
    "               'max_depth': max_depth,\n",
    "               'min_samples_split': min_samples_split,\n",
    "               'min_samples_leaf': min_samples_leaf,\n",
    "               'bootstrap': bootstrap}\n",
    "\n",
    "rf = RandomForestRegressor()\n",
    "\n",
    "# Random search of parameters, using 3 fold cross validation, \n",
    "# search across 100 different combinations, and use all available cores\n",
    "rf_random = RandomizedSearchCV(\n",
    "    estimator = rf,\n",
    "    param_distributions = random_grid,\n",
    "    n_iter = 2,\n",
    "    cv = 2,\n",
    "    verbose=3,\n",
    "    random_state=42,\n",
    "    n_jobs = -1,\n",
    ")\n",
    "\n",
    "# Fit the random search model\n",
    "rf_random.fit(X_train, y_train)\n",
    "\n",
    "def evaluate(model, X_test, y_test):\n",
    "    predictions = model.predict(X_test)\n",
    "    errors = abs(predictions - y_test)\n",
    "    mape = 100 * np.mean(errors / y_test)\n",
    "    accuracy = 100 - mape\n",
    "    print('Model Performance')\n",
    "    print('Average Error: {:0.4f} degrees.'.format(np.mean(errors)))\n",
    "    print('Accuracy = {:0.2f}%.'.format(accuracy))\n",
    "    return accuracy"
   ]
  },
  {
   "cell_type": "code",
   "execution_count": null,
   "metadata": {},
   "outputs": [],
   "source": [
    "# Fit the grid search to the data\n",
    "best_grid = rf_random.best_estimator_\n",
    "\n",
    "grid_accuracy = evaluate(best_grid, X_test, y_test)"
   ]
  },
  {
   "cell_type": "code",
   "execution_count": 5,
   "metadata": {},
   "outputs": [
    {
     "name": "stdout",
     "output_type": "stream",
     "text": [
      "balcony__offer\n",
      "1.0    82642\n",
      "0.0     2627\n",
      "Name: balcony__offer, dtype: int64\n"
     ]
    },
    {
     "data": {
      "image/png": "[encoded data removed]",
      "text/plain": [
       "<Figure size 432x288 with 1 Axes>"
      ]
     },
     "metadata": {
      "needs_background": "light"
     },
     "output_type": "display_data"
    },
    {
     "name": "stdout",
     "output_type": "stream",
     "text": [
      "basement__clean\n",
      "0.0    77183\n",
      "1.0     8086\n",
      "Name: basement__clean, dtype: int64\n"
     ]
    },
    {
     "data": {
      "image/png": "[encoded data removed]",
      "text/plain": [
       "<Figure size 432x288 with 1 Axes>"
      ]
     },
     "metadata": {
      "needs_background": "light"
     },
     "output_type": "display_data"
    },
    {
     "name": "stdout",
     "output_type": "stream",
     "text": [
      "building_height__offer\n",
      "4.0      28209\n",
      "3.0      11492\n",
      "5.0       8884\n",
      "6.0       7502\n",
      "2.0       5592\n",
      "10.0      4883\n",
      "7.0       4781\n",
      "8.0       4077\n",
      "1.0       1687\n",
      "11.0      1490\n",
      "9.0       1484\n",
      "12.0      1223\n",
      "15.0       809\n",
      "17.0       756\n",
      "16.0       539\n",
      "13.0       479\n",
      "14.0       404\n",
      "52.0       188\n",
      "18.0       173\n",
      "44.0       106\n",
      "22.0        93\n",
      "19.0        70\n",
      "30.0        52\n",
      "25.0        47\n",
      "20.0        43\n",
      "23.0        32\n",
      "28.0        31\n",
      "41.0        21\n",
      "32.0        20\n",
      "24.0        17\n",
      "54.0        12\n",
      "50.0        11\n",
      "21.0         9\n",
      "36.0         8\n",
      "55.0         5\n",
      "29.0         5\n",
      "27.0         5\n",
      "38.0         4\n",
      "39.0         3\n",
      "43.0         3\n",
      "51.0         3\n",
      "33.0         3\n",
      "31.0         3\n",
      "127.0        2\n",
      "26.0         2\n",
      "46.0         2\n",
      "34.0         1\n",
      "48.0         1\n",
      "35.0         1\n",
      "53.0         1\n",
      "37.0         1\n",
      "Name: building_height__offer, dtype: int64\n"
     ]
    },
    {
     "data": {
      "image/png": "[encoded data removed]",
      "text/plain": [
       "<Figure size 432x288 with 1 Axes>"
      ]
     },
     "metadata": {
      "needs_background": "light"
     },
     "output_type": "display_data"
    },
    {
     "name": "stdout",
     "output_type": "stream",
     "text": [
      "building_material__offer\n",
      "3    70661\n",
      "2    12197\n",
      "1     2411\n",
      "Name: building_material__offer, dtype: int64\n"
     ]
    },
    {
     "data": {
      "image/png": "[encoded data removed]",
      "text/plain": [
       "<Figure size 432x288 with 1 Axes>"
      ]
     },
     "metadata": {
      "needs_background": "light"
     },
     "output_type": "display_data"
    },
    {
     "name": "stdout",
     "output_type": "stream",
     "text": [
      "building_type__offer\n",
      "3    36435\n",
      "1    25563\n",
      "2    23271\n",
      "Name: building_type__offer, dtype: int64\n"
     ]
    },
    {
     "data": {
      "image/png": "[encoded data removed]",
      "text/plain": [
       "<Figure size 432x288 with 1 Axes>"
      ]
     },
     "metadata": {
      "needs_background": "light"
     },
     "output_type": "display_data"
    },
    {
     "name": "stdout",
     "output_type": "stream",
     "text": [
      "building_year__offer\n",
      "2019.0    30664\n",
      "2018.0     5313\n",
      "2017.0     3499\n",
      "2008.0     2896\n",
      "2010.0     2759\n",
      "          ...  \n",
      "1868.0        1\n",
      "1390.0        1\n",
      "2020.0        1\n",
      "1479.0        1\n",
      "1789.0        1\n",
      "Name: building_year__offer, Length: 183, dtype: int64\n"
     ]
    },
    {
     "data": {
      "image/png": "[encoded data removed]",
      "text/plain": [
       "<Figure size 432x288 with 1 Axes>"
      ]
     },
     "metadata": {
      "needs_background": "light"
     },
     "output_type": "display_data"
    },
    {
     "name": "stdout",
     "output_type": "stream",
     "text": [
      "date_added__offer\n",
      "2019-07-01    1155\n",
      "2019-07-02     723\n",
      "2019-09-30     593\n",
      "2019-09-03     588\n",
      "2019-09-04     587\n",
      "              ... \n",
      "2018-02-25       1\n",
      "2018-03-04       1\n",
      "2018-05-19       1\n",
      "2018-04-01       1\n",
      "2018-07-08       1\n",
      "Name: date_added__offer, Length: 693, dtype: int64\n",
      "date_refreshed__offer\n",
      "2019-06-13    2514\n",
      "2019-06-12    1940\n",
      "2019-06-11    1244\n",
      "2019-07-18    1243\n",
      "2019-06-10     987\n",
      "              ... \n",
      "2014-07-31       1\n",
      "2018-11-11       1\n",
      "2017-09-13       1\n",
      "2018-05-31       1\n",
      "2018-02-27       1\n",
      "Name: date_refreshed__offer, Length: 721, dtype: int64\n",
      "desc_len__offer\n",
      "805     73\n",
      "935     71\n",
      "1081    68\n",
      "745     68\n",
      "1302    66\n",
      "        ..\n",
      "5494     1\n",
      "3165     1\n",
      "5113     1\n",
      "5177     1\n",
      "3592     1\n",
      "Name: desc_len__offer, Length: 4837, dtype: int64\n"
     ]
    },
    {
     "data": {
      "image/png": "[encoded data removed]",
      "text/plain": [
       "<Figure size 432x288 with 1 Axes>"
      ]
     },
     "metadata": {
      "needs_background": "light"
     },
     "output_type": "display_data"
    },
    {
     "name": "stdout",
     "output_type": "stream",
     "text": [
      "direct__offer\n",
      "0.0    83396\n",
      "1.0     1873\n",
      "Name: direct__offer, dtype: int64\n"
     ]
    },
    {
     "data": {
      "image/png": "[encoded data removed]",
      "text/plain": [
       "<Figure size 432x288 with 1 Axes>"
      ]
     },
     "metadata": {
      "needs_background": "light"
     },
     "output_type": "display_data"
    },
    {
     "name": "stdout",
     "output_type": "stream",
     "text": [
      "driveway__clean\n",
      "0.0    85269\n",
      "Name: driveway__clean, dtype: int64\n"
     ]
    },
    {
     "data": {
      "image/png": "[encoded data removed]",
      "text/plain": [
       "<Figure size 432x288 with 1 Axes>"
      ]
     },
     "metadata": {
      "needs_background": "light"
     },
     "output_type": "display_data"
    },
    {
     "name": "stdout",
     "output_type": "stream",
     "text": [
      "electricity__clean\n",
      "0    83949\n",
      "1     1320\n",
      "Name: electricity__clean, dtype: int64\n"
     ]
    },
    {
     "data": {
      "image/png": "[encoded data removed]",
      "text/plain": [
       "<Figure size 432x288 with 1 Axes>"
      ]
     },
     "metadata": {
      "needs_background": "light"
     },
     "output_type": "display_data"
    },
    {
     "name": "stdout",
     "output_type": "stream",
     "text": [
      "fence__clean\n",
      "0.0    85245\n",
      "1.0       24\n",
      "Name: fence__clean, dtype: int64\n"
     ]
    },
    {
     "data": {
      "image/png": "[encoded data removed]",
      "text/plain": [
       "<Figure size 432x288 with 1 Axes>"
      ]
     },
     "metadata": {
      "needs_background": "light"
     },
     "output_type": "display_data"
    },
    {
     "name": "stdout",
     "output_type": "stream",
     "text": [
      "flat_state__offer\n",
      "3    45786\n",
      "4    38817\n",
      "2      473\n",
      "1      193\n",
      "Name: flat_state__offer, dtype: int64\n"
     ]
    },
    {
     "data": {
      "image/png": "[encoded data removed]",
      "text/plain": [
       "<Figure size 432x288 with 1 Axes>"
      ]
     },
     "metadata": {
      "needs_background": "light"
     },
     "output_type": "display_data"
    },
    {
     "name": "stdout",
     "output_type": "stream",
     "text": [
      "floor__offer\n",
      " 1.0      19239\n",
      " 2.0      16396\n",
      " 3.0      13099\n",
      " 0.0       9872\n",
      " 4.0       9273\n",
      " 5.0       5319\n",
      " 6.0       3766\n",
      " 7.0       2358\n",
      " 8.0       1640\n",
      " 10.0      1075\n",
      " 9.0        926\n",
      " 11.0       633\n",
      " 12.0       327\n",
      " 13.0       307\n",
      " 14.0       253\n",
      " 15.0       170\n",
      " 16.0       133\n",
      " 17.0        74\n",
      " 18.0        39\n",
      " 19.0        37\n",
      " 23.0        33\n",
      " 24.0        33\n",
      " 27.0        31\n",
      " 21.0        25\n",
      " 28.0        23\n",
      " 30.0        23\n",
      " 34.0        19\n",
      " 20.0        19\n",
      " 29.0        18\n",
      "-1.0         16\n",
      " 22.0        15\n",
      " 33.0        14\n",
      " 31.0        11\n",
      " 36.0        10\n",
      " 26.0         9\n",
      " 25.0         8\n",
      " 32.0         6\n",
      " 40.0         4\n",
      " 35.0         3\n",
      " 38.0         2\n",
      " 39.0         2\n",
      " 42.0         2\n",
      " 43.0         2\n",
      " 54.0         1\n",
      " 68.0         1\n",
      " 120.0        1\n",
      " 127.0        1\n",
      " 88.0         1\n",
      "Name: floor__offer, dtype: int64\n"
     ]
    },
    {
     "data": {
      "image/png": "[encoded data removed]",
      "text/plain": [
       "<Figure size 432x288 with 1 Axes>"
      ]
     },
     "metadata": {
      "needs_background": "light"
     },
     "output_type": "display_data"
    },
    {
     "name": "stdout",
     "output_type": "stream",
     "text": [
      "floor_number__clean\n",
      "4.0      28544\n",
      "3.0      11412\n",
      "5.0       8850\n",
      "6.0       7477\n",
      "2.0       5514\n",
      "10.0      4869\n",
      "7.0       4766\n",
      "8.0       4065\n",
      "1.0       1642\n",
      "11.0      1485\n",
      "9.0       1481\n",
      "12.0      1221\n",
      "15.0       808\n",
      "17.0       753\n",
      "16.0       537\n",
      "13.0       478\n",
      "14.0       402\n",
      "52.0       187\n",
      "18.0       171\n",
      "44.0       103\n",
      "22.0        89\n",
      "19.0        68\n",
      "30.0        51\n",
      "25.0        47\n",
      "20.0        43\n",
      "23.0        32\n",
      "28.0        31\n",
      "41.0        21\n",
      "32.0        20\n",
      "24.0        17\n",
      "54.0        12\n",
      "50.0        11\n",
      "21.0         9\n",
      "36.0         8\n",
      "55.0         5\n",
      "29.0         5\n",
      "27.0         5\n",
      "38.0         4\n",
      "39.0         3\n",
      "43.0         3\n",
      "51.0         3\n",
      "33.0         3\n",
      "31.0         3\n",
      "127.0        2\n",
      "26.0         2\n",
      "46.0         2\n",
      "34.0         1\n",
      "48.0         1\n",
      "35.0         1\n",
      "53.0         1\n",
      "37.0         1\n",
      "Name: floor_number__clean, dtype: int64\n"
     ]
    },
    {
     "data": {
      "image/png": "[encoded data removed]",
      "text/plain": [
       "<Figure size 432x288 with 1 Axes>"
      ]
     },
     "metadata": {
      "needs_background": "light"
     },
     "output_type": "display_data"
    },
    {
     "name": "stdout",
     "output_type": "stream",
     "text": [
      "furniture__clean\n",
      "0.0    67252\n",
      "1.0    18017\n",
      "Name: furniture__clean, dtype: int64\n"
     ]
    },
    {
     "data": {
      "image/png": "[encoded data removed]",
      "text/plain": [
       "<Figure size 432x288 with 1 Axes>"
      ]
     },
     "metadata": {
      "needs_background": "light"
     },
     "output_type": "display_data"
    },
    {
     "name": "stdout",
     "output_type": "stream",
     "text": [
      "gas__clean\n",
      "0.0    81282\n",
      "1.0     3987\n",
      "Name: gas__clean, dtype: int64\n"
     ]
    },
    {
     "data": {
      "image/png": "[encoded data removed]",
      "text/plain": [
       "<Figure size 432x288 with 1 Axes>"
      ]
     },
     "metadata": {
      "needs_background": "light"
     },
     "output_type": "display_data"
    },
    {
     "name": "stdout",
     "output_type": "stream",
     "text": [
      "heating__offer\n",
      "3.0    60717\n",
      "2.0     3951\n",
      "1.0      312\n",
      "4.0       20\n",
      "Name: heating__offer, dtype: int64\n"
     ]
    },
    {
     "data": {
      "image/png": "[encoded data removed]",
      "text/plain": [
       "<Figure size 432x288 with 1 Axes>"
      ]
     },
     "metadata": {
      "needs_background": "light"
     },
     "output_type": "display_data"
    },
    {
     "name": "stdout",
     "output_type": "stream",
     "text": [
      "internet__clean\n",
      "0.0    73667\n",
      "1.0    11602\n",
      "Name: internet__clean, dtype: int64\n"
     ]
    },
    {
     "data": {
      "image/png": "[encoded data removed]",
      "text/plain": [
       "<Figure size 432x288 with 1 Axes>"
      ]
     },
     "metadata": {
      "needs_background": "light"
     },
     "output_type": "display_data"
    },
    {
     "name": "stdout",
     "output_type": "stream",
     "text": [
      "kitchen_furniture__clean\n",
      "0.0    78466\n",
      "1.0     6803\n",
      "Name: kitchen_furniture__clean, dtype: int64\n"
     ]
    },
    {
     "data": {
      "image/png": "[encoded data removed]",
      "text/plain": [
       "<Figure size 432x288 with 1 Axes>"
      ]
     },
     "metadata": {
      "needs_background": "light"
     },
     "output_type": "display_data"
    },
    {
     "name": "stdout",
     "output_type": "stream",
     "text": [
      "lat__offer\n",
      "52.229676    367\n",
      "52.194157    332\n",
      "53.126000    240\n",
      "54.351678    189\n",
      "49.822377    182\n",
      "            ... \n",
      "52.198547      1\n",
      "54.408808      1\n",
      "49.802721      1\n",
      "51.053360      1\n",
      "52.259017      1\n",
      "Name: lat__offer, Length: 35848, dtype: int64\n"
     ]
    },
    {
     "data": {
      "image/png": "[encoded data removed]",
      "text/plain": [
       "<Figure size 432x288 with 1 Axes>"
      ]
     },
     "metadata": {
      "needs_background": "light"
     },
     "output_type": "display_data"
    },
    {
     "name": "stdout",
     "output_type": "stream",
     "text": [
      "lift__clean\n",
      "0.0    57790\n",
      "1.0    27479\n",
      "Name: lift__clean, dtype: int64\n"
     ]
    },
    {
     "data": {
      "image/png": "[encoded data removed]",
      "text/plain": [
       "<Figure size 432x288 with 1 Axes>"
      ]
     },
     "metadata": {
      "needs_background": "light"
     },
     "output_type": "display_data"
    },
    {
     "name": "stdout",
     "output_type": "stream",
     "text": [
      "lon__offer\n",
      "21.034696    332\n",
      "21.012229    321\n",
      "18.007900    240\n",
      "21.002612    184\n",
      "19.058384    183\n",
      "            ... \n",
      "19.933400      1\n",
      "17.029330      1\n",
      "19.946777      1\n",
      "21.062806      1\n",
      "19.443490      1\n",
      "Name: lon__offer, Length: 36296, dtype: int64\n"
     ]
    },
    {
     "data": {
      "image/png": "[encoded data removed]",
      "text/plain": [
       "<Figure size 432x288 with 1 Axes>"
      ]
     },
     "metadata": {
      "needs_background": "light"
     },
     "output_type": "display_data"
    },
    {
     "name": "stdout",
     "output_type": "stream",
     "text": [
      "market_type__offer\n",
      "1.0    84265\n",
      "0.0     1003\n",
      "Name: market_type__offer, dtype: int64\n"
     ]
    },
    {
     "data": {
      "image/png": "[encoded data removed]",
      "text/plain": [
       "<Figure size 432x288 with 1 Axes>"
      ]
     },
     "metadata": {
      "needs_background": "light"
     },
     "output_type": "display_data"
    },
    {
     "name": "stdout",
     "output_type": "stream",
     "text": [
      "offer_id__offer\n",
      "morizon-62830/369/OMW    1\n",
      "morizon-16209/MW/MAX     1\n",
      "morizon-PRP-MW-62221     1\n",
      "morizon-QS612879         1\n",
      "morizon-8/6131/OMW       1\n",
      "                        ..\n",
      "morizon-TC883248         1\n",
      "morizon-MW-25893         1\n",
      "morizon-FKK-MW-12120     1\n",
      "morizon-314/4372/OMW     1\n",
      "morizon-1058/7466/OMW    1\n",
      "Name: offer_id__offer, Length: 85268, dtype: int64\n",
      "parking_spot__clean\n",
      "0.0      73926\n",
      "1.0      10790\n",
      "2.0        451\n",
      "3.0         28\n",
      "4.0         18\n",
      "10.0        18\n",
      "5.0         10\n",
      "20.0         6\n",
      "30.0         4\n",
      "50.0         3\n",
      "8.0          3\n",
      "6.0          2\n",
      "100.0        2\n",
      "15.0         2\n",
      "12.0         1\n",
      "37.0         1\n",
      "127.0        1\n",
      "22.0         1\n",
      "125.0        1\n",
      "25.0         1\n",
      "Name: parking_spot__clean, dtype: int64\n"
     ]
    },
    {
     "data": {
      "image/png": "[encoded data removed]",
      "text/plain": [
       "<Figure size 432x288 with 1 Axes>"
      ]
     },
     "metadata": {
      "needs_background": "light"
     },
     "output_type": "display_data"
    },
    {
     "name": "stdout",
     "output_type": "stream",
     "text": [
      "price__offer\n",
      "2500.0     4566\n",
      "2000.0     3979\n",
      "1800.0     3133\n",
      "2200.0     3074\n",
      "3000.0     2807\n",
      "           ... \n",
      "6643.0        1\n",
      "120.0         1\n",
      "5199.0        1\n",
      "12840.0       1\n",
      "3828.0        1\n",
      "Name: price__offer, Length: 1189, dtype: int64\n"
     ]
    },
    {
     "data": {
      "image/png": "[encoded data removed]",
      "text/plain": [
       "<Figure size 432x288 with 1 Axes>"
      ]
     },
     "metadata": {
      "needs_background": "light"
     },
     "output_type": "display_data"
    },
    {
     "name": "stdout",
     "output_type": "stream",
     "text": [
      "price_m2__offer\n",
      "50.00    2295\n",
      "40.00    1157\n",
      "60.00     834\n",
      "33.33     757\n",
      "66.67     736\n",
      "         ... \n",
      "88.41       1\n",
      "71.08       1\n",
      "17.68       1\n",
      "71.13       1\n",
      "12.51       1\n",
      "Name: price_m2__offer, Length: 7045, dtype: int64\n"
     ]
    },
    {
     "data": {
      "image/png": "[encoded data removed]",
      "text/plain": [
       "<Figure size 432x288 with 1 Axes>"
      ]
     },
     "metadata": {
      "needs_background": "light"
     },
     "output_type": "display_data"
    },
    {
     "name": "stdout",
     "output_type": "stream",
     "text": [
      "promotion_counter__offer\n",
      "0.0      78750\n",
      "20.0      1765\n",
      "19.0      1352\n",
      "1.0        843\n",
      "44.0       447\n",
      "         ...  \n",
      "67.0         1\n",
      "74.0         1\n",
      "115.0        1\n",
      "179.0        1\n",
      "154.0        1\n",
      "Name: promotion_counter__offer, Length: 120, dtype: int64\n"
     ]
    },
    {
     "data": {
      "image/png": "[encoded data removed]",
      "text/plain": [
       "<Figure size 432x288 with 1 Axes>"
      ]
     },
     "metadata": {
      "needs_background": "light"
     },
     "output_type": "display_data"
    },
    {
     "name": "stdout",
     "output_type": "stream",
     "text": [
      "room_n__offer\n",
      "2.0      42157\n",
      "3.0      23524\n",
      "1.0      11807\n",
      "4.0       6009\n",
      "5.0       1311\n",
      "6.0        278\n",
      "7.0         64\n",
      "8.0         35\n",
      "10.0        19\n",
      "9.0         16\n",
      "127.0        8\n",
      "14.0         6\n",
      "18.0         5\n",
      "15.0         4\n",
      "20.0         4\n",
      "11.0         4\n",
      "21.0         3\n",
      "13.0         2\n",
      "34.0         2\n",
      "12.0         2\n",
      "32.0         1\n",
      "25.0         1\n",
      "87.0         1\n",
      "43.0         1\n",
      "42.0         1\n",
      "100.0        1\n",
      "35.0         1\n",
      "96.0         1\n",
      "22.0         1\n",
      "Name: room_n__offer, dtype: int64\n"
     ]
    },
    {
     "data": {
      "image/png": "[encoded data removed]",
      "text/plain": [
       "<Figure size 432x288 with 1 Axes>"
      ]
     },
     "metadata": {
      "needs_background": "light"
     },
     "output_type": "display_data"
    },
    {
     "name": "stdout",
     "output_type": "stream",
     "text": [
      "sewers__clean\n",
      "0    84424\n",
      "1      845\n",
      "Name: sewers__clean, dtype: int64\n"
     ]
    },
    {
     "data": {
      "image/png": "[encoded data removed]",
      "text/plain": [
       "<Figure size 432x288 with 1 Axes>"
      ]
     },
     "metadata": {
      "needs_background": "light"
     },
     "output_type": "display_data"
    },
    {
     "name": "stdout",
     "output_type": "stream",
     "text": [
      "size__offer\n",
      "50.00     3800\n",
      "40.00     3150\n",
      "45.00     2321\n",
      "60.00     2184\n",
      "38.00     1979\n",
      "          ... \n",
      "73.64        1\n",
      "52.23        1\n",
      "117.50       1\n",
      "56.16        1\n",
      "107.78       1\n",
      "Name: size__offer, Length: 4147, dtype: int64\n"
     ]
    },
    {
     "data": {
      "image/png": "[encoded data removed]",
      "text/plain": [
       "<Figure size 432x288 with 1 Axes>"
      ]
     },
     "metadata": {
      "needs_background": "light"
     },
     "output_type": "display_data"
    },
    {
     "name": "stdout",
     "output_type": "stream",
     "text": [
      "taras__offer\n",
      "0.0    80299\n",
      "1.0     4970\n",
      "Name: taras__offer, dtype: int64\n"
     ]
    },
    {
     "data": {
      "image/png": "[encoded data removed]",
      "text/plain": [
       "<Figure size 432x288 with 1 Axes>"
      ]
     },
     "metadata": {
      "needs_background": "light"
     },
     "output_type": "display_data"
    },
    {
     "name": "stdout",
     "output_type": "stream",
     "text": [
      "telecom__clean\n",
      "0.0    75879\n",
      "1.0     9390\n",
      "Name: telecom__clean, dtype: int64\n"
     ]
    },
    {
     "data": {
      "image/png": "[encoded data removed]",
      "text/plain": [
       "<Figure size 432x288 with 1 Axes>"
      ]
     },
     "metadata": {
      "needs_background": "light"
     },
     "output_type": "display_data"
    },
    {
     "name": "stdout",
     "output_type": "stream",
     "text": [
      "view_count__offer\n",
      "11.0     3965\n",
      "12.0     3904\n",
      "10.0     3708\n",
      "13.0     3680\n",
      "14.0     3530\n",
      "         ... \n",
      "595.0       1\n",
      "379.0       1\n",
      "685.0       1\n",
      "934.0       1\n",
      "748.0       1\n",
      "Name: view_count__offer, Length: 898, dtype: int64\n"
     ]
    },
    {
     "data": {
      "image/png": "[encoded data removed]",
      "text/plain": [
       "<Figure size 432x288 with 1 Axes>"
      ]
     },
     "metadata": {
      "needs_background": "light"
     },
     "output_type": "display_data"
    },
    {
     "name": "stdout",
     "output_type": "stream",
     "text": [
      "water__offer\n",
      "0    72144\n",
      "1    13125\n",
      "Name: water__offer, dtype: int64\n"
     ]
    },
    {
     "data": {
      "image/png": "[encoded data removed]",
      "text/plain": [
       "<Figure size 432x288 with 1 Axes>"
      ]
     },
     "metadata": {
      "needs_background": "light"
     },
     "output_type": "display_data"
    },
    {
     "name": "stdout",
     "output_type": "stream",
     "text": [
      "cluster_mean_price_m2__feature\n",
      "4191.92    35600\n",
      "2326.11    15175\n",
      "2375.57     5994\n",
      "2638.11     4810\n",
      "1870.76     2515\n",
      "           ...  \n",
      "2490.00        1\n",
      "33.33          1\n",
      "2275.00        1\n",
      "5000.00        1\n",
      "5.00           1\n",
      "Name: cluster_mean_price_m2__feature, Length: 286, dtype: int64\n"
     ]
    },
    {
     "data": {
      "image/png": "[encoded data removed]",
      "text/plain": [
       "<Figure size 432x288 with 1 Axes>"
      ]
     },
     "metadata": {
      "needs_background": "light"
     },
     "output_type": "display_data"
    },
    {
     "name": "stdout",
     "output_type": "stream",
     "text": [
      "cluster_mean_price__feature\n",
      "3571.432584    35600\n",
      "2436.271186    15175\n",
      "2283.709677     5994\n",
      "2509.000000     4810\n",
      "1916.666667     2515\n",
      "2079.235294     2294\n",
      "2580.000000     1696\n",
      "1570.714286     1357\n",
      "1910.000000     1147\n",
      "1700.000000     1036\n",
      "1550.000000      861\n",
      "1925.000000      830\n",
      "1600.000000      709\n",
      "1500.000000      706\n",
      "2631.250000      697\n",
      "1000.000000      521\n",
      "1608.333333      443\n",
      "1125.000000      428\n",
      "2220.000000      421\n",
      "1497.500000      337\n",
      "1800.000000      336\n",
      "1525.000000      317\n",
      "1233.333333      308\n",
      "1400.000000      267\n",
      "1900.000000      250\n",
      "1974.750000      218\n",
      "2510.000000      188\n",
      "2050.000000      187\n",
      "1340.000000      185\n",
      "866.666667       183\n",
      "800.000000       180\n",
      "1975.000000      146\n",
      "1300.000000      135\n",
      "1533.333333      129\n",
      "4500.000000       96\n",
      "1200.000000       94\n",
      "1645.000000       91\n",
      "2466.666667       85\n",
      "1250.000000       76\n",
      "1450.000000       67\n",
      "2500.000000       65\n",
      "2000.000000       57\n",
      "1325.000000       52\n",
      "3300.000000       51\n",
      "550.000000        49\n",
      "1350.000000       38\n",
      "1225.000000       33\n",
      "3600.000000       31\n",
      "2200.000000       28\n",
      "2400.000000       25\n",
      "1666.666667       20\n",
      "1100.000000       15\n",
      "2100.000000       11\n",
      "1950.000000       10\n",
      "875.000000         8\n",
      "500.000000         4\n",
      "450.000000         1\n",
      "Name: cluster_mean_price__feature, dtype: int64\n"
     ]
    },
    {
     "data": {
      "image/png": "[encoded data removed]",
      "text/plain": [
       "<Figure size 432x288 with 1 Axes>"
      ]
     },
     "metadata": {
      "needs_background": "light"
     },
     "output_type": "display_data"
    },
    {
     "name": "stdout",
     "output_type": "stream",
     "text": [
      "cluster_id__feature\n",
      "497    35600\n",
      "445    15175\n",
      "447     5994\n",
      "465     4810\n",
      "392     2515\n",
      "       ...  \n",
      "81         1\n",
      "17         1\n",
      "484        1\n",
      "400        1\n",
      "64         1\n",
      "Name: cluster_id__feature, Length: 495, dtype: int64\n"
     ]
    },
    {
     "data": {
      "image/png": "[encoded data removed]",
      "text/plain": [
       "<Figure size 432x288 with 1 Axes>"
      ]
     },
     "metadata": {
      "needs_background": "light"
     },
     "output_type": "display_data"
    },
    {
     "name": "stdout",
     "output_type": "stream",
     "text": [
      "cluster_center_dist_km__feature\n",
      "0.00     1367\n",
      "1.42      538\n",
      "2.89      467\n",
      "1.07      427\n",
      "2.06      406\n",
      "         ... \n",
      "13.88       1\n",
      "13.28       1\n",
      "13.69       1\n",
      "16.95       1\n",
      "14.35       1\n",
      "Name: cluster_center_dist_km__feature, Length: 1500, dtype: int64\n"
     ]
    },
    {
     "data": {
      "image/png": "[encoded data removed]",
      "text/plain": [
       "<Figure size 432x288 with 1 Axes>"
      ]
     },
     "metadata": {
      "needs_background": "light"
     },
     "output_type": "display_data"
    },
    {
     "name": "stdout",
     "output_type": "stream",
     "text": [
      "cluster_coords_factor__feature\n",
      "5923.408084    370\n",
      "5268.432095    369\n",
      "3392.240749    240\n",
      "2878.551444    189\n",
      "5411.924774    187\n",
      "              ... \n",
      "1875.720975      1\n",
      "2220.216781      1\n",
      "6924.598860      1\n",
      "1820.319221      1\n",
      "10.000000        1\n",
      "Name: cluster_coords_factor__feature, Length: 25659, dtype: int64\n"
     ]
    },
    {
     "data": {
      "image/png": "[encoded data removed]",
      "text/plain": [
       "<Figure size 432x288 with 1 Axes>"
      ]
     },
     "metadata": {
      "needs_background": "light"
     },
     "output_type": "display_data"
    }
   ],
   "source": [
    "for c in df.columns:\n",
    "    try:\n",
    "        print(c)\n",
    "        print(df[c].value_counts())\n",
    "        df.boxplot(column=c)\n",
    "        plt.show()\n",
    "    except KeyError:\n",
    "        continue"
   ]
  }
 ],
 "metadata": {
  "kernelspec": {
   "display_name": "Python 3",
   "language": "python",
   "name": "python3"
  },
  "language_info": {
   "codemirror_mode": {
    "name": "ipython",
    "version": 3
   },
   "file_extension": ".py",
   "mimetype": "text/x-python",
   "name": "python",
   "nbconvert_exporter": "python",
   "pygments_lexer": "ipython3",
   "version": "3.7.6"
  }
 },
 "nbformat": 4,
 "nbformat_minor": 4
}
