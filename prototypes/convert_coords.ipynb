{
 "cells": [
  {
   "cell_type": "code",
   "execution_count": null,
   "metadata": {},
   "outputs": [],
   "source": [
    "import pandas as pd\n",
    "import matplotlib.pyplot as plt\n",
    "import numpy as np\n",
    "import logging as log\n",
    "\n",
    "from sklearn.cluster import DBSCAN\n",
    "from geopy.distance import great_circle\n",
    "from shapely.geometry import MultiPoint\n",
    "\n",
    "%matplotlib inline"
   ]
  },
  {
   "cell_type": "code",
   "execution_count": null,
   "metadata": {},
   "outputs": [],
   "source": [
    "df = pd.read_parquet('rent_clean_2019_09_09T19_30_03.parquet')\n",
    "\n",
    "# max distance (in km) between coordinates to get \"clustered\"\n",
    "EPSILON = 1\n",
    "# min samples per cluster\n",
    "MIN_SAMPLES = 1"
   ]
  },
  {
   "cell_type": "code",
   "execution_count": null,
   "metadata": {},
   "outputs": [],
   "source": [
    "def get_repr_points(lon_lat_df):\n",
    "    \"\"\"\n",
    "    Get's lon's and lat's representative for a given lon and lat dataset.\n",
    "    For details see: https://geoffboeing.com/2014/08/clustering-to-reduce-spatial-data-set-size/\n",
    "    \"\"\"\n",
    "    coords = df[['lat', 'lon']].to_numpy()\n",
    "    kms_per_radian = 6371.0088\n",
    "    epsilon = EPSILON / kms_per_radian\n",
    "    db = DBSCAN(eps=epsilon,\n",
    "                min_samples=MIN_SAMPLES,\n",
    "                algorithm='ball_tree',\n",
    "                metric='haversine').fit(np.radians(coords))\n",
    "    cluster_labels = db.labels_\n",
    "    num_clusters = len(set(cluster_labels))\n",
    "    clusters = pd.Series([coords[cluster_labels == n] for n in range(num_clusters)])\n",
    "    centermost_points = list(clusters.map(get_centermost_point))\n",
    "    log.info(f'Found {num_clusters} clusters')\n",
    "    return centermost_points\n",
    "                                \n",
    "def get_centermost_point(cluster):\\n\",\n",
    "    \"\"\"\n",
    "    Get the most \"center\" point for a cluster according to DBscan.\n",
    "    \"\"\"\n",
    "    centroid = (MultiPoint(cluster).centroid.x, MultiPoint(cluster).centroid.y)\n",
    "    centermost_point = min(cluster, key=lambda point: great_circle(point, centroid).m)\n",
    "    return tuple(centermost_point)"
   ]
  },
  {
   "cell_type": "code",
   "execution_count": null,
   "metadata": {},
   "outputs": [],
   "source": [
    "repr_coords = get_repr_points(coords)\n",
    "centers = pd.DataFrame(repr_coords, columns=['lat', 'lon'])"
   ]
  }
 ],
 "metadata": {
  "kernelspec": {
   "display_name": "Python 3",
   "language": "python",
   "name": "python3"
  },
  "language_info": {
   "codemirror_mode": {
    "name": "ipython",
    "version": 3
   },
   "file_extension": ".py",
   "mimetype": "text/x-python",
   "name": "python",
   "nbconvert_exporter": "python",
   "pygments_lexer": "ipython3",
   "version": "3.7.3"
  }
 },
 "nbformat": 4,
 "nbformat_minor": 4
}
