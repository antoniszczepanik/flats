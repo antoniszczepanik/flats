{
 "cells": [
  {
   "cell_type": "code",
   "execution_count": 9,
   "metadata": {},
   "outputs": [
    {
     "name": "stderr",
     "output_type": "stream",
     "text": [
      "credentials.py 15:51:56 INFO: Found credentials in shared credentials file: ~/.aws/credentials\n"
     ]
    },
    {
     "name": "stdout",
     "output_type": "stream",
     "text": [
      "The autoreload extension is already loaded. To reload it, use:\n",
      "  %reload_ext autoreload\n"
     ]
    }
   ],
   "source": [
    "import matplotlib.pyplot as plt\n",
    "import numpy as np\n",
    "import pandas as pd\n",
    "from sklearn.ensemble import RandomForestRegressor\n",
    "from sklearn.model_selection import train_test_split\n",
    "from sklearn.model_selection import RandomizedSearchCV\n",
    "\n",
    "import pipelines\n",
    "from s3_client import s3_client\n",
    "import columns as c\n",
    "import common\n",
    "\n",
    "# data pipelines s3 paths\n",
    "S3_DATA_BUCKET = \"flats-data\"\n",
    "DATA_TYPES = (\"sale\", \"rent\")\n",
    "RAW_DATA_PATH = S3_DATA_BUCKET + \"/{data_type}/raw\"\n",
    "CONCATED_DATA_PATH = S3_DATA_BUCKET + \"/{data_type}/concated\"\n",
    "CLEAN_DATA_PATH = S3_DATA_BUCKET + \"/{data_type}/clean\"\n",
    "FINAL_DATA_PATH = S3_DATA_BUCKET + \"/{data_type}/final\"\n",
    "PREDICTED_DATA_PATH = S3_DATA_BUCKET + \"/{data_type}/predicted\"\n",
    "TO_UPLOAD_DATA_PATH = S3_DATA_BUCKET + \"/{data_type}/to_upload\"\n",
    "\n",
    "# models s3 paths\n",
    "S3_MODELS_BUCKET = \"flats-models\"\n",
    "COORDS_MAP_MODELS_PATH = S3_MODELS_BUCKET + \"/{data_type}/coords_encoding\"\n",
    "MODELS_PATH = S3_MODELS_BUCKET + \"/{data_type}/models\"\n",
    "\n",
    "pd.set_option('float_format', '{:f}'.format)\n",
    "%load_ext autoreload\n",
    "%autoreload 2\n",
    "\n",
    "s3_client = s3_client() \n",
    "\n",
    "DTYPE = 'sale'"
   ]
  },
  {
   "cell_type": "code",
   "execution_count": 10,
   "metadata": {},
   "outputs": [
    {
     "name": "stderr",
     "output_type": "stream",
     "text": [
      "s3_client.py 15:51:58 INFO: Downloading sale/final/sale_final_2020_12_18T16_12_19.csv from flats-data bucket ...\n",
      "s3_client.py 15:52:41 INFO: Successfully downloaded sale/final/sale_final_2020_12_18T16_12_19.csv from flats-data bucket.\n"
     ]
    }
   ],
   "source": [
    "_df = s3_client.read_newest_df_from_s3(FINAL_DATA_PATH, dtype=DTYPE)"
   ]
  },
  {
   "cell_type": "code",
   "execution_count": 11,
   "metadata": {},
   "outputs": [
    {
     "name": "stdout",
     "output_type": "stream",
     "text": [
      "(514459, 46)\n",
      "(514458, 46)\n"
     ]
    }
   ],
   "source": [
    "df = _df.drop(c.HEATING, axis=1)\n",
    "print(df.shape)\n",
    "df = df.dropna()\n",
    "print(df.shape)\n",
    "df[c.DATE_ADDED] = pd.to_datetime(df[c.DATE_ADDED]).dt.strftime(\"%Y%m%d\").astype(int)\n",
    "df[c.DATE_REFRESHED] = pd.to_datetime(df[c.DATE_REFRESHED]).dt.strftime(\"%Y%m%d\").astype(int)"
   ]
  },
  {
   "cell_type": "code",
   "execution_count": 12,
   "metadata": {},
   "outputs": [],
   "source": [
    "X = df.drop([c.PRICE, c.PRICE_M2, c.OFFER_ID], axis=1)\n",
    "\n",
    "if DTYPE == 'sale':\n",
    "    X = X[common.SALE_MODEL_INPUTS]\n",
    "elif DTYPE == 'rent':\n",
    "    X = X[common.RENT_MODEL_INPUTS]\n",
    "    \n",
    "y = df[c.PRICE_M2]\n",
    "X_train, X_test, y_train, y_test = train_test_split(X, y, test_size=0.2, random_state=42)"
   ]
  },
  {
   "cell_type": "code",
   "execution_count": 13,
   "metadata": {},
   "outputs": [
    {
     "name": "stdout",
     "output_type": "stream",
     "text": [
      "Fitting 2 folds for each of 10 candidates, totalling 20 fits\n",
      "Model Performance\n",
      "Average Error: 687.3527\n",
      "MAPE = 9.56%.\n"
     ]
    },
    {
     "data": {
      "text/html": [
       "<div>\n",
       "<style scoped>\n",
       "    .dataframe tbody tr th:only-of-type {\n",
       "        vertical-align: middle;\n",
       "    }\n",
       "\n",
       "    .dataframe tbody tr th {\n",
       "        vertical-align: top;\n",
       "    }\n",
       "\n",
       "    .dataframe thead th {\n",
       "        text-align: right;\n",
       "    }\n",
       "</style>\n",
       "<table border=\"1\" class=\"dataframe\">\n",
       "  <thead>\n",
       "    <tr style=\"text-align: right;\">\n",
       "      <th></th>\n",
       "      <th>importance</th>\n",
       "    </tr>\n",
       "  </thead>\n",
       "  <tbody>\n",
       "    <tr>\n",
       "      <th>cluster_coords_factor__feature</th>\n",
       "      <td>0.592084</td>\n",
       "    </tr>\n",
       "    <tr>\n",
       "      <th>lat__offer</th>\n",
       "      <td>0.090092</td>\n",
       "    </tr>\n",
       "    <tr>\n",
       "      <th>lon__offer</th>\n",
       "      <td>0.087457</td>\n",
       "    </tr>\n",
       "    <tr>\n",
       "      <th>size__offer</th>\n",
       "      <td>0.066362</td>\n",
       "    </tr>\n",
       "    <tr>\n",
       "      <th>building_year__offer</th>\n",
       "      <td>0.054468</td>\n",
       "    </tr>\n",
       "    <tr>\n",
       "      <th>desc_len__offer</th>\n",
       "      <td>0.036349</td>\n",
       "    </tr>\n",
       "    <tr>\n",
       "      <th>building_height__offer</th>\n",
       "      <td>0.022750</td>\n",
       "    </tr>\n",
       "    <tr>\n",
       "      <th>floor__offer</th>\n",
       "      <td>0.020998</td>\n",
       "    </tr>\n",
       "    <tr>\n",
       "      <th>view_count__offer</th>\n",
       "      <td>0.018677</td>\n",
       "    </tr>\n",
       "    <tr>\n",
       "      <th>floor_number__clean</th>\n",
       "      <td>0.010763</td>\n",
       "    </tr>\n",
       "  </tbody>\n",
       "</table>\n",
       "</div>"
      ],
      "text/plain": [
       "                                importance\n",
       "cluster_coords_factor__feature    0.592084\n",
       "lat__offer                        0.090092\n",
       "lon__offer                        0.087457\n",
       "size__offer                       0.066362\n",
       "building_year__offer              0.054468\n",
       "desc_len__offer                   0.036349\n",
       "building_height__offer            0.022750\n",
       "floor__offer                      0.020998\n",
       "view_count__offer                 0.018677\n",
       "floor_number__clean               0.010763"
      ]
     },
     "execution_count": 13,
     "metadata": {},
     "output_type": "execute_result"
    }
   ],
   "source": [
    "n_estimators = [int(x) for x in np.linspace(start = 20, stop = 200, num = 10)]\n",
    "max_depth = [int(x) for x in np.linspace(6, 50, num = 11)]\n",
    "max_depth.append(None)\n",
    "min_samples_split = [2, 5, 10, 100]\n",
    "min_samples_leaf = [1, 2, 4]\n",
    "\n",
    "random_grid = {'n_estimators': n_estimators,\n",
    "               'max_depth': max_depth,\n",
    "               'min_samples_split': min_samples_split,\n",
    "               'min_samples_leaf': min_samples_leaf}\n",
    "\n",
    "rf = RandomForestRegressor()\n",
    "\n",
    "# Random search of parameters, using 3 fold cross validation, \n",
    "# search across 100 different combinations, and use all available cores\n",
    "rf_random = RandomizedSearchCV(\n",
    "    estimator = rf,\n",
    "    param_distributions = random_grid,\n",
    "    n_iter = 10,\n",
    "    cv = 2,\n",
    "    verbose=3,\n",
    "    random_state=42,\n",
    "    n_jobs = -1,\n",
    ")\n",
    "\n",
    "# Fit the random search model\n",
    "rf_random.fit(X_train, y_train)\n",
    "\n",
    "def evaluate(model, X_test, y_test):\n",
    "    predictions = model.predict(X_test)\n",
    "    errors = abs(predictions - y_test)\n",
    "    mape = 100 * np.mean(errors / y_test)\n",
    "    print('Model Performance')\n",
    "    print('Average Error: {:0.4f}'.format(np.mean(errors)))\n",
    "    print('MAPE = {:0.2f}%.'.format(mape))\n",
    "    return mape\n",
    "\n",
    "# Fit the grid search to the data\n",
    "best_rf = rf_random.best_estimator_\n",
    "mape = evaluate(best_rf, X_test, y_test)\n",
    "\n",
    "feature_importances = (pd.DataFrame(best_rf.feature_importances_,\n",
    "                                    index = X_train.columns,\n",
    "                                    columns=['importance'])\n",
    "                       .sort_values('importance', ascending=False))\n",
    "feature_importances"
   ]
  },
  {
   "cell_type": "code",
   "execution_count": 14,
   "metadata": {},
   "outputs": [
    {
     "name": "stderr",
     "output_type": "stream",
     "text": [
      "s3_client.py 16:42:37 INFO: Sending sale/models/sale_rf_2021_01_14T16_42_06.joblib to flats-models bucket...\n",
      "s3_client.py 16:45:17 INFO: Successfully uploaded sale/models/sale_rf_2021_01_14T16_42_06.joblib to flats-models bucket.\n"
     ]
    },
    {
     "data": {
      "text/plain": [
       "True"
      ]
     },
     "execution_count": 14,
     "metadata": {},
     "output_type": "execute_result"
    }
   ],
   "source": [
    "s3_client.upload_model_to_s3_with_timestamp(best_rf,\n",
    "                                            common.MODELS_PATH,\n",
    "                                            dtype=DTYPE,\n",
    "                                            keyword='rf',\n",
    "                                            metadata={'MAPE': '{:0.3f}%.'.format(mape)},\n",
    "                                           )"
   ]
  },
  {
   "cell_type": "code",
   "execution_count": null,
   "metadata": {},
   "outputs": [],
   "source": []
  }
 ],
 "metadata": {
  "kernelspec": {
   "display_name": "Python 3",
   "language": "python",
   "name": "python3"
  },
  "language_info": {
   "codemirror_mode": {
    "name": "ipython",
    "version": 3
   },
   "file_extension": ".py",
   "mimetype": "text/x-python",
   "name": "python",
   "nbconvert_exporter": "python",
   "pygments_lexer": "ipython3",
   "version": "3.7.9"
  }
 },
 "nbformat": 4,
 "nbformat_minor": 4
}
